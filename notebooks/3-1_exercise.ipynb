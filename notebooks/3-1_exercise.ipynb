{
 "cells": [
  {
   "cell_type": "markdown",
   "metadata": {},
   "source": [
    "<h1>GESIS Summer School in Survey Methodology 2018:<br> Meta-Analysis in Social Research and Survey Methodology<span class=\"tocSkip\"></span></h1>"
   ]
  },
  {
   "cell_type": "markdown",
   "metadata": {
    "toc": true
   },
   "source": [
    "<h1>Table of Contents<span class=\"tocSkip\"></span></h1>\n",
    "<div class=\"toc\"><ul class=\"toc-item\"><li><span><a href=\"#Preliminaries\" data-toc-modified-id=\"Preliminaries-1\"><span class=\"toc-item-num\">1&nbsp;&nbsp;</span>Preliminaries</a></span></li><li><span><a href=\"#Exercise\" data-toc-modified-id=\"Exercise-2\"><span class=\"toc-item-num\">2&nbsp;&nbsp;</span>Exercise</a></span></li><li><span><a href=\"#Exercise\" data-toc-modified-id=\"Exercise-3\"><span class=\"toc-item-num\">3&nbsp;&nbsp;</span>Exercise</a></span></li><li><span><a href=\"#Exercise\" data-toc-modified-id=\"Exercise-4\"><span class=\"toc-item-num\">4&nbsp;&nbsp;</span>Exercise</a></span></li></ul></div>"
   ]
  },
  {
   "cell_type": "markdown",
   "metadata": {},
   "source": [
    "## Preliminaries"
   ]
  },
  {
   "cell_type": "markdown",
   "metadata": {},
   "source": [
    "Please do not touch anything in this section, otherwise this notebook might not work properly. You have been warned! Also, if you have no clue what you are staring at, please consult our [Preface chapter](1-1_preface.ipynb)."
   ]
  },
  {
   "cell_type": "code",
   "execution_count": 1,
   "metadata": {},
   "outputs": [
    {
     "name": "stderr",
     "output_type": "stream",
     "text": [
      "Loading required package: Matrix\n",
      "Loading 'metafor' package (version 2.0-0). For an overview \n",
      "and introduction to the package please type: help(metafor).\n"
     ]
    }
   ],
   "source": [
    "source(\"run_me_first.R\")"
   ]
  },
  {
   "cell_type": "markdown",
   "metadata": {},
   "source": [
    "## Exercise"
   ]
  },
  {
   "cell_type": "markdown",
   "metadata": {},
   "source": [
    "One of the first steps when conducting a meta-analysis is a graphical inspection of the data and one of the most common graphs in meta-analysis are forest plots. So, in this exercise you are requested to create a forest plot using the function `forest()` and the `dat.bcg` data (use risk ratios as effect size). Check the `metafor` introduction slides for further help."
   ]
  },
  {
   "cell_type": "markdown",
   "metadata": {},
   "source": [
    "The minimal version of the forest plot looks, well, very minimal. You are welcome to enhance your forest\n",
    "plot by adding labels, summary effects etc. See below for an example. Play a bit around with different\n",
    "options and meta-analytic models."
   ]
  },
  {
   "cell_type": "code",
   "execution_count": 2,
   "metadata": {},
   "outputs": [],
   "source": [
    "## Please insert your solution here. Of course, feel free to add new code cells."
   ]
  },
  {
   "cell_type": "code",
   "execution_count": 24,
   "metadata": {},
   "outputs": [
    {
     "data": {
      "text/html": [
       "<table>\n",
       "<thead><tr><th scope=col>trial</th><th scope=col>author</th><th scope=col>year</th><th scope=col>tpos</th><th scope=col>tneg</th><th scope=col>cpos</th><th scope=col>cneg</th><th scope=col>ablat</th><th scope=col>alloc</th><th scope=col>yi</th><th scope=col>vi</th></tr></thead>\n",
       "<tbody>\n",
       "\t<tr><td> 1                  </td><td>Aronson             </td><td>1948                </td><td>  4                 </td><td>  119               </td><td> 11                 </td><td>  128               </td><td>44                  </td><td>random              </td><td>-0.88931133         </td><td>0.325584765         </td></tr>\n",
       "\t<tr><td> 2                                                              </td><td><span style=white-space:pre-wrap>Ferguson &amp; Simes    </span></td><td>1949                                                            </td><td><span style=white-space:pre-wrap>  6</span>                     </td><td><span style=white-space:pre-wrap>  300</span>                   </td><td> 29                                                             </td><td><span style=white-space:pre-wrap>  274</span>                   </td><td>55                                                              </td><td><span style=white-space:pre-wrap>random    </span>              </td><td>-1.58538866                                                     </td><td>0.194581121                                                     </td></tr>\n",
       "\t<tr><td> 3                  </td><td>Rosenthal et al     </td><td>1960                </td><td>  3                 </td><td>  228               </td><td> 11                 </td><td>  209               </td><td>42                  </td><td>random              </td><td>-1.34807315         </td><td>0.415367965         </td></tr>\n",
       "\t<tr><td> 4                                                              </td><td><span style=white-space:pre-wrap>Hart &amp; Sutherland   </span></td><td>1977                                                            </td><td> 62                                                             </td><td>13536                                                           </td><td>248                                                             </td><td>12619                                                           </td><td>52                                                              </td><td><span style=white-space:pre-wrap>random    </span>              </td><td>-1.44155119                                                     </td><td>0.020010032                                                     </td></tr>\n",
       "\t<tr><td> 5                  </td><td>Frimodt-Moller et al</td><td>1973                </td><td> 33                 </td><td> 5036               </td><td> 47                 </td><td> 5761               </td><td>13                  </td><td>alternate           </td><td>-0.21754732         </td><td>0.051210172         </td></tr>\n",
       "\t<tr><td> 6                                                              </td><td><span style=white-space:pre-wrap>Stein &amp; Aronson     </span></td><td>1953                                                            </td><td>180                                                             </td><td> 1361                                                           </td><td>372                                                             </td><td> 1079                                                           </td><td>44                                                              </td><td>alternate                                                       </td><td>-0.78611559                                                     </td><td>0.006905618                                                     </td></tr>\n",
       "\t<tr><td> 7                  </td><td>Vandiviere et al    </td><td>1973                </td><td>  8                 </td><td> 2537               </td><td> 10                 </td><td>  619               </td><td>19                  </td><td>random              </td><td>-1.62089822         </td><td>0.223017248         </td></tr>\n",
       "\t<tr><td> 8                  </td><td>TPT Madras          </td><td>1980                </td><td>505                 </td><td>87886               </td><td>499                 </td><td>87892               </td><td>13                  </td><td>random              </td><td> 0.01195233         </td><td>0.003961579         </td></tr>\n",
       "\t<tr><td> 9                                                              </td><td><span style=white-space:pre-wrap>Coetzee &amp; Berjak    </span></td><td>1968                                                            </td><td> 29                                                             </td><td> 7470                                                           </td><td> 45                                                             </td><td> 7232                                                           </td><td>27                                                              </td><td><span style=white-space:pre-wrap>random    </span>              </td><td>-0.46941765                                                     </td><td>0.056434210                                                     </td></tr>\n",
       "\t<tr><td>10                  </td><td>Rosenthal et al     </td><td>1961                </td><td> 17                 </td><td> 1699               </td><td> 65                 </td><td> 1600               </td><td>42                  </td><td>systematic          </td><td>-1.37134480         </td><td>0.073024794         </td></tr>\n",
       "\t<tr><td>11                  </td><td>Comstock et al      </td><td>1974                </td><td>186                 </td><td>50448               </td><td>141                 </td><td>27197               </td><td>18                  </td><td>systematic          </td><td>-0.33935883         </td><td>0.012412214         </td></tr>\n",
       "\t<tr><td>12                                                              </td><td><span style=white-space:pre-wrap>Comstock &amp; Webster  </span></td><td>1969                                                            </td><td><span style=white-space:pre-wrap>  5</span>                     </td><td> 2493                                                           </td><td><span style=white-space:pre-wrap>  3</span>                     </td><td> 2338                                                           </td><td>33                                                              </td><td>systematic                                                      </td><td> 0.44591340                                                     </td><td>0.532505845                                                     </td></tr>\n",
       "\t<tr><td>13                  </td><td>Comstock et al      </td><td>1976                </td><td> 27                 </td><td>16886               </td><td> 29                 </td><td>17825               </td><td>33                  </td><td>systematic          </td><td>-0.01731395         </td><td>0.071404660         </td></tr>\n",
       "</tbody>\n",
       "</table>\n"
      ],
      "text/latex": [
       "\\begin{tabular}{r|lllllllllll}\n",
       " trial & author & year & tpos & tneg & cpos & cneg & ablat & alloc & yi & vi\\\\\n",
       "\\hline\n",
       "\t  1                   & Aronson              & 1948                 &   4                  &   119                &  11                  &   128                & 44                   & random               & -0.88931133          & 0.325584765         \\\\\n",
       "\t  2                     & Ferguson \\& Simes     & 1949                   &   6                    &   300                  &  29                    &   274                  & 55                     & random                 & -1.58538866            & 0.194581121           \\\\\n",
       "\t  3                   & Rosenthal et al      & 1960                 &   3                  &   228                &  11                  &   209                & 42                   & random               & -1.34807315          & 0.415367965         \\\\\n",
       "\t  4                     & Hart \\& Sutherland    & 1977                   &  62                    & 13536                  & 248                    & 12619                  & 52                     & random                 & -1.44155119            & 0.020010032           \\\\\n",
       "\t  5                   & Frimodt-Moller et al & 1973                 &  33                  &  5036                &  47                  &  5761                & 13                   & alternate            & -0.21754732          & 0.051210172         \\\\\n",
       "\t  6                     & Stein \\& Aronson      & 1953                   & 180                    &  1361                  & 372                    &  1079                  & 44                     & alternate              & -0.78611559            & 0.006905618           \\\\\n",
       "\t  7                   & Vandiviere et al     & 1973                 &   8                  &  2537                &  10                  &   619                & 19                   & random               & -1.62089822          & 0.223017248         \\\\\n",
       "\t  8                   & TPT Madras           & 1980                 & 505                  & 87886                & 499                  & 87892                & 13                   & random               &  0.01195233          & 0.003961579         \\\\\n",
       "\t  9                     & Coetzee \\& Berjak     & 1968                   &  29                    &  7470                  &  45                    &  7232                  & 27                     & random                 & -0.46941765            & 0.056434210           \\\\\n",
       "\t 10                   & Rosenthal et al      & 1961                 &  17                  &  1699                &  65                  &  1600                & 42                   & systematic           & -1.37134480          & 0.073024794         \\\\\n",
       "\t 11                   & Comstock et al       & 1974                 & 186                  & 50448                & 141                  & 27197                & 18                   & systematic           & -0.33935883          & 0.012412214         \\\\\n",
       "\t 12                     & Comstock \\& Webster   & 1969                   &   5                    &  2493                  &   3                    &  2338                  & 33                     & systematic             &  0.44591340            & 0.532505845           \\\\\n",
       "\t 13                   & Comstock et al       & 1976                 &  27                  & 16886                &  29                  & 17825                & 33                   & systematic           & -0.01731395          & 0.071404660         \\\\\n",
       "\\end{tabular}\n"
      ],
      "text/markdown": [
       "\n",
       "trial | author | year | tpos | tneg | cpos | cneg | ablat | alloc | yi | vi | \n",
       "|---|---|---|---|---|---|---|---|---|---|---|---|---|\n",
       "|  1                   | Aronson              | 1948                 |   4                  |   119                |  11                  |   128                | 44                   | random               | -0.88931133          | 0.325584765          | \n",
       "|  2                   | Ferguson & Simes     | 1949                 |   6                  |   300                |  29                  |   274                | 55                   | random               | -1.58538866          | 0.194581121          | \n",
       "|  3                   | Rosenthal et al      | 1960                 |   3                  |   228                |  11                  |   209                | 42                   | random               | -1.34807315          | 0.415367965          | \n",
       "|  4                   | Hart & Sutherland    | 1977                 |  62                  | 13536                | 248                  | 12619                | 52                   | random               | -1.44155119          | 0.020010032          | \n",
       "|  5                   | Frimodt-Moller et al | 1973                 |  33                  |  5036                |  47                  |  5761                | 13                   | alternate            | -0.21754732          | 0.051210172          | \n",
       "|  6                   | Stein & Aronson      | 1953                 | 180                  |  1361                | 372                  |  1079                | 44                   | alternate            | -0.78611559          | 0.006905618          | \n",
       "|  7                   | Vandiviere et al     | 1973                 |   8                  |  2537                |  10                  |   619                | 19                   | random               | -1.62089822          | 0.223017248          | \n",
       "|  8                   | TPT Madras           | 1980                 | 505                  | 87886                | 499                  | 87892                | 13                   | random               |  0.01195233          | 0.003961579          | \n",
       "|  9                   | Coetzee & Berjak     | 1968                 |  29                  |  7470                |  45                  |  7232                | 27                   | random               | -0.46941765          | 0.056434210          | \n",
       "| 10                   | Rosenthal et al      | 1961                 |  17                  |  1699                |  65                  |  1600                | 42                   | systematic           | -1.37134480          | 0.073024794          | \n",
       "| 11                   | Comstock et al       | 1974                 | 186                  | 50448                | 141                  | 27197                | 18                   | systematic           | -0.33935883          | 0.012412214          | \n",
       "| 12                   | Comstock & Webster   | 1969                 |   5                  |  2493                |   3                  |  2338                | 33                   | systematic           |  0.44591340          | 0.532505845          | \n",
       "| 13                   | Comstock et al       | 1976                 |  27                  | 16886                |  29                  | 17825                | 33                   | systematic           | -0.01731395          | 0.071404660          | \n",
       "\n",
       "\n"
      ],
      "text/plain": [
       "   trial author               year tpos tneg  cpos cneg  ablat alloc     \n",
       "1   1    Aronson              1948   4    119  11    128 44    random    \n",
       "2   2    Ferguson & Simes     1949   6    300  29    274 55    random    \n",
       "3   3    Rosenthal et al      1960   3    228  11    209 42    random    \n",
       "4   4    Hart & Sutherland    1977  62  13536 248  12619 52    random    \n",
       "5   5    Frimodt-Moller et al 1973  33   5036  47   5761 13    alternate \n",
       "6   6    Stein & Aronson      1953 180   1361 372   1079 44    alternate \n",
       "7   7    Vandiviere et al     1973   8   2537  10    619 19    random    \n",
       "8   8    TPT Madras           1980 505  87886 499  87892 13    random    \n",
       "9   9    Coetzee & Berjak     1968  29   7470  45   7232 27    random    \n",
       "10 10    Rosenthal et al      1961  17   1699  65   1600 42    systematic\n",
       "11 11    Comstock et al       1974 186  50448 141  27197 18    systematic\n",
       "12 12    Comstock & Webster   1969   5   2493   3   2338 33    systematic\n",
       "13 13    Comstock et al       1976  27  16886  29  17825 33    systematic\n",
       "   yi          vi         \n",
       "1  -0.88931133 0.325584765\n",
       "2  -1.58538866 0.194581121\n",
       "3  -1.34807315 0.415367965\n",
       "4  -1.44155119 0.020010032\n",
       "5  -0.21754732 0.051210172\n",
       "6  -0.78611559 0.006905618\n",
       "7  -1.62089822 0.223017248\n",
       "8   0.01195233 0.003961579\n",
       "9  -0.46941765 0.056434210\n",
       "10 -1.37134480 0.073024794\n",
       "11 -0.33935883 0.012412214\n",
       "12  0.44591340 0.532505845\n",
       "13 -0.01731395 0.071404660"
      ]
     },
     "metadata": {},
     "output_type": "display_data"
    },
    {
     "data": {
      "text/plain": [
       "\n",
       "Random-Effects Model (k = 13; tau^2 estimator: REML)\n",
       "\n",
       "tau^2 (estimated amount of total heterogeneity): 0.3132 (SE = 0.1664)\n",
       "tau (square root of estimated tau^2 value):      0.5597\n",
       "I^2 (total heterogeneity / total variability):   92.22%\n",
       "H^2 (total variability / sampling variability):  12.86\n",
       "\n",
       "Test for Heterogeneity: \n",
       "Q(df = 12) = 152.2330, p-val < .0001\n",
       "\n",
       "Model Results:\n",
       "\n",
       "estimate      se     zval    pval    ci.lb    ci.ub     \n",
       " -0.7145  0.1798  -3.9744  <.0001  -1.0669  -0.3622  ***\n",
       "\n",
       "---\n",
       "Signif. codes:  0 '***' 0.001 '**' 0.01 '*' 0.05 '.' 0.1 ' ' 1 \n"
      ]
     },
     "metadata": {},
     "output_type": "display_data"
    },
    {
     "data": {
      "image/png": "[encoded data removed]",
      "text/plain": [
       "plot without title"
      ]
     },
     "metadata": {},
     "output_type": "display_data"
    }
   ],
   "source": [
    "library(metafor)\n",
    "dat <- escalc(measure=\"RR\", ai=tpos, bi=tneg, ci=cpos, di=cneg, data=dat.bcg, slab=paste(author, year, sep=\", \"))\n",
    "dat\n",
    "              \n",
    "mydata <- rma(measure=\"RR\", ai=tpos, bi=tneg, ci=cpos, di=cneg, data=dat, method=\"REML\")\n",
    "mydata\n",
    "\n",
    "forest(mydata)"
   ]
  },
  {
   "cell_type": "code",
   "execution_count": 17,
   "metadata": {},
   "outputs": [
    {
     "data": {
      "text/html": [
       "<table>\n",
       "<thead><tr><th scope=col>trial</th><th scope=col>author</th><th scope=col>year</th><th scope=col>tpos</th><th scope=col>tneg</th><th scope=col>cpos</th><th scope=col>cneg</th><th scope=col>ablat</th><th scope=col>alloc</th></tr></thead>\n",
       "<tbody>\n",
       "\t<tr><td> 1                  </td><td>Aronson             </td><td>1948                </td><td>  4                 </td><td>  119               </td><td> 11                 </td><td>  128               </td><td>44                  </td><td>random              </td></tr>\n",
       "\t<tr><td> 2                                                              </td><td><span style=white-space:pre-wrap>Ferguson &amp; Simes    </span></td><td>1949                                                            </td><td><span style=white-space:pre-wrap>  6</span>                     </td><td><span style=white-space:pre-wrap>  300</span>                   </td><td> 29                                                             </td><td><span style=white-space:pre-wrap>  274</span>                   </td><td>55                                                              </td><td><span style=white-space:pre-wrap>random    </span>              </td></tr>\n",
       "\t<tr><td> 3                  </td><td>Rosenthal et al     </td><td>1960                </td><td>  3                 </td><td>  228               </td><td> 11                 </td><td>  209               </td><td>42                  </td><td>random              </td></tr>\n",
       "\t<tr><td> 4                                                              </td><td><span style=white-space:pre-wrap>Hart &amp; Sutherland   </span></td><td>1977                                                            </td><td> 62                                                             </td><td>13536                                                           </td><td>248                                                             </td><td>12619                                                           </td><td>52                                                              </td><td><span style=white-space:pre-wrap>random    </span>              </td></tr>\n",
       "\t<tr><td> 5                  </td><td>Frimodt-Moller et al</td><td>1973                </td><td> 33                 </td><td> 5036               </td><td> 47                 </td><td> 5761               </td><td>13                  </td><td>alternate           </td></tr>\n",
       "\t<tr><td> 6                                                              </td><td><span style=white-space:pre-wrap>Stein &amp; Aronson     </span></td><td>1953                                                            </td><td>180                                                             </td><td> 1361                                                           </td><td>372                                                             </td><td> 1079                                                           </td><td>44                                                              </td><td>alternate                                                       </td></tr>\n",
       "\t<tr><td> 7                  </td><td>Vandiviere et al    </td><td>1973                </td><td>  8                 </td><td> 2537               </td><td> 10                 </td><td>  619               </td><td>19                  </td><td>random              </td></tr>\n",
       "\t<tr><td> 8                  </td><td>TPT Madras          </td><td>1980                </td><td>505                 </td><td>87886               </td><td>499                 </td><td>87892               </td><td>13                  </td><td>random              </td></tr>\n",
       "\t<tr><td> 9                                                              </td><td><span style=white-space:pre-wrap>Coetzee &amp; Berjak    </span></td><td>1968                                                            </td><td> 29                                                             </td><td> 7470                                                           </td><td> 45                                                             </td><td> 7232                                                           </td><td>27                                                              </td><td><span style=white-space:pre-wrap>random    </span>              </td></tr>\n",
       "\t<tr><td>10                  </td><td>Rosenthal et al     </td><td>1961                </td><td> 17                 </td><td> 1699               </td><td> 65                 </td><td> 1600               </td><td>42                  </td><td>systematic          </td></tr>\n",
       "\t<tr><td>11                  </td><td>Comstock et al      </td><td>1974                </td><td>186                 </td><td>50448               </td><td>141                 </td><td>27197               </td><td>18                  </td><td>systematic          </td></tr>\n",
       "\t<tr><td>12                                                              </td><td><span style=white-space:pre-wrap>Comstock &amp; Webster  </span></td><td>1969                                                            </td><td><span style=white-space:pre-wrap>  5</span>                     </td><td> 2493                                                           </td><td><span style=white-space:pre-wrap>  3</span>                     </td><td> 2338                                                           </td><td>33                                                              </td><td>systematic                                                      </td></tr>\n",
       "\t<tr><td>13                  </td><td>Comstock et al      </td><td>1976                </td><td> 27                 </td><td>16886               </td><td> 29                 </td><td>17825               </td><td>33                  </td><td>systematic          </td></tr>\n",
       "</tbody>\n",
       "</table>\n"
      ],
      "text/latex": [
       "\\begin{tabular}{r|lllllllll}\n",
       " trial & author & year & tpos & tneg & cpos & cneg & ablat & alloc\\\\\n",
       "\\hline\n",
       "\t  1                   & Aronson              & 1948                 &   4                  &   119                &  11                  &   128                & 44                   & random              \\\\\n",
       "\t  2                     & Ferguson \\& Simes     & 1949                   &   6                    &   300                  &  29                    &   274                  & 55                     & random                \\\\\n",
       "\t  3                   & Rosenthal et al      & 1960                 &   3                  &   228                &  11                  &   209                & 42                   & random              \\\\\n",
       "\t  4                     & Hart \\& Sutherland    & 1977                   &  62                    & 13536                  & 248                    & 12619                  & 52                     & random                \\\\\n",
       "\t  5                   & Frimodt-Moller et al & 1973                 &  33                  &  5036                &  47                  &  5761                & 13                   & alternate           \\\\\n",
       "\t  6                     & Stein \\& Aronson      & 1953                   & 180                    &  1361                  & 372                    &  1079                  & 44                     & alternate             \\\\\n",
       "\t  7                   & Vandiviere et al     & 1973                 &   8                  &  2537                &  10                  &   619                & 19                   & random              \\\\\n",
       "\t  8                   & TPT Madras           & 1980                 & 505                  & 87886                & 499                  & 87892                & 13                   & random              \\\\\n",
       "\t  9                     & Coetzee \\& Berjak     & 1968                   &  29                    &  7470                  &  45                    &  7232                  & 27                     & random                \\\\\n",
       "\t 10                   & Rosenthal et al      & 1961                 &  17                  &  1699                &  65                  &  1600                & 42                   & systematic          \\\\\n",
       "\t 11                   & Comstock et al       & 1974                 & 186                  & 50448                & 141                  & 27197                & 18                   & systematic          \\\\\n",
       "\t 12                     & Comstock \\& Webster   & 1969                   &   5                    &  2493                  &   3                    &  2338                  & 33                     & systematic            \\\\\n",
       "\t 13                   & Comstock et al       & 1976                 &  27                  & 16886                &  29                  & 17825                & 33                   & systematic          \\\\\n",
       "\\end{tabular}\n"
      ],
      "text/markdown": [
       "\n",
       "trial | author | year | tpos | tneg | cpos | cneg | ablat | alloc | \n",
       "|---|---|---|---|---|---|---|---|---|---|---|---|---|\n",
       "|  1                   | Aronson              | 1948                 |   4                  |   119                |  11                  |   128                | 44                   | random               | \n",
       "|  2                   | Ferguson & Simes     | 1949                 |   6                  |   300                |  29                  |   274                | 55                   | random               | \n",
       "|  3                   | Rosenthal et al      | 1960                 |   3                  |   228                |  11                  |   209                | 42                   | random               | \n",
       "|  4                   | Hart & Sutherland    | 1977                 |  62                  | 13536                | 248                  | 12619                | 52                   | random               | \n",
       "|  5                   | Frimodt-Moller et al | 1973                 |  33                  |  5036                |  47                  |  5761                | 13                   | alternate            | \n",
       "|  6                   | Stein & Aronson      | 1953                 | 180                  |  1361                | 372                  |  1079                | 44                   | alternate            | \n",
       "|  7                   | Vandiviere et al     | 1973                 |   8                  |  2537                |  10                  |   619                | 19                   | random               | \n",
       "|  8                   | TPT Madras           | 1980                 | 505                  | 87886                | 499                  | 87892                | 13                   | random               | \n",
       "|  9                   | Coetzee & Berjak     | 1968                 |  29                  |  7470                |  45                  |  7232                | 27                   | random               | \n",
       "| 10                   | Rosenthal et al      | 1961                 |  17                  |  1699                |  65                  |  1600                | 42                   | systematic           | \n",
       "| 11                   | Comstock et al       | 1974                 | 186                  | 50448                | 141                  | 27197                | 18                   | systematic           | \n",
       "| 12                   | Comstock & Webster   | 1969                 |   5                  |  2493                |   3                  |  2338                | 33                   | systematic           | \n",
       "| 13                   | Comstock et al       | 1976                 |  27                  | 16886                |  29                  | 17825                | 33                   | systematic           | \n",
       "\n",
       "\n"
      ],
      "text/plain": [
       "   trial author               year tpos tneg  cpos cneg  ablat alloc     \n",
       "1   1    Aronson              1948   4    119  11    128 44    random    \n",
       "2   2    Ferguson & Simes     1949   6    300  29    274 55    random    \n",
       "3   3    Rosenthal et al      1960   3    228  11    209 42    random    \n",
       "4   4    Hart & Sutherland    1977  62  13536 248  12619 52    random    \n",
       "5   5    Frimodt-Moller et al 1973  33   5036  47   5761 13    alternate \n",
       "6   6    Stein & Aronson      1953 180   1361 372   1079 44    alternate \n",
       "7   7    Vandiviere et al     1973   8   2537  10    619 19    random    \n",
       "8   8    TPT Madras           1980 505  87886 499  87892 13    random    \n",
       "9   9    Coetzee & Berjak     1968  29   7470  45   7232 27    random    \n",
       "10 10    Rosenthal et al      1961  17   1699  65   1600 42    systematic\n",
       "11 11    Comstock et al       1974 186  50448 141  27197 18    systematic\n",
       "12 12    Comstock & Webster   1969   5   2493   3   2338 33    systematic\n",
       "13 13    Comstock et al       1976  27  16886  29  17825 33    systematic"
      ]
     },
     "metadata": {},
     "output_type": "display_data"
    }
   ],
   "source": [
    "dat.bcg"
   ]
  },
  {
   "cell_type": "code",
   "execution_count": 14,
   "metadata": {},
   "outputs": [],
   "source": [
    "## Please insert your solution here. Of course, feel free to add new code cells."
   ]
  },
  {
   "cell_type": "markdown",
   "metadata": {},
   "source": [
    "## Exercise"
   ]
  },
  {
   "cell_type": "markdown",
   "metadata": {},
   "source": [
    "By looking at your forest plot, would you say that you have a homogeneous or a heterogeneous effect-size\n",
    "distribution?"
   ]
  },
  {
   "cell_type": "code",
   "execution_count": 5,
   "metadata": {},
   "outputs": [],
   "source": [
    "## Please insert your solution here. Of course, feel free to add new code cells."
   ]
  },
  {
   "cell_type": "markdown",
   "metadata": {},
   "source": [
    "## Exercise"
   ]
  },
  {
   "cell_type": "markdown",
   "metadata": {},
   "source": [
    "Finally, we need to calculate $I_2$ and $H_2$ . You can do this with the `rma()` function. Given your $I_2$ statistic, how would you classify the amount of heterogeneity? (If you like, you can play around with different methods of estimation, e.g. DerSimonian-Laird or the restricted maximum-likelihood estimator. How does this affect your estimates and conclusions about the effect-size heterogeneity?)"
   ]
  },
  {
   "cell_type": "code",
   "execution_count": 6,
   "metadata": {},
   "outputs": [],
   "source": [
    "## Please insert your solution here. Of course, feel free to add new code cells."
   ]
  },
  {
   "cell_type": "code",
   "execution_count": 7,
   "metadata": {},
   "outputs": [],
   "source": [
    "## Please insert your solution here. Of course, feel free to add new code cells."
   ]
  }
 ],
 "metadata": {
  "kernelspec": {
   "display_name": "R",
   "language": "R",
   "name": "ir"
  },
  "language_info": {
   "codemirror_mode": "r",
   "file_extension": ".r",
   "mimetype": "text/x-r-source",
   "name": "R",
   "pygments_lexer": "r",
   "version": "3.4.3"
  },
  "toc": {
   "base_numbering": 1,
   "nav_menu": {},
   "number_sections": true,
   "sideBar": true,
   "skip_h1_title": false,
   "title_cell": "Table of Contents",
   "title_sidebar": "Contents",
   "toc_cell": true,
   "toc_position": {},
   "toc_section_display": true,
   "toc_window_display": true
  }
 },
 "nbformat": 4,
 "nbformat_minor": 2
}
