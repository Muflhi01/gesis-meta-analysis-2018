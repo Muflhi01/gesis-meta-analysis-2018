{
 "cells": [
  {
   "cell_type": "markdown",
   "metadata": {},
   "source": [
    "<h1>GESIS Summer School in Survey Methodology 2018:<br> Meta-Analysis in Social Research and Survey Methodology<span class=\"tocSkip\"></span></h1>"
   ]
  },
  {
   "cell_type": "markdown",
   "metadata": {
    "toc": true
   },
   "source": [
    "<h1>Table of Contents<span class=\"tocSkip\"></span></h1>\n",
    "<div class=\"toc\"><ul class=\"toc-item\"><li><span><a href=\"#Preliminaries\" data-toc-modified-id=\"Preliminaries-1\"><span class=\"toc-item-num\">1&nbsp;&nbsp;</span>Preliminaries</a></span></li><li><span><a href=\"#Exercise\" data-toc-modified-id=\"Exercise-2\"><span class=\"toc-item-num\">2&nbsp;&nbsp;</span>Exercise</a></span></li><li><span><a href=\"#Exercise\" data-toc-modified-id=\"Exercise-3\"><span class=\"toc-item-num\">3&nbsp;&nbsp;</span>Exercise</a></span></li><li><span><a href=\"#Exercise\" data-toc-modified-id=\"Exercise-4\"><span class=\"toc-item-num\">4&nbsp;&nbsp;</span>Exercise</a></span></li><li><span><a href=\"#Exercise\" data-toc-modified-id=\"Exercise-5\"><span class=\"toc-item-num\">5&nbsp;&nbsp;</span>Exercise</a></span></li></ul></div>"
   ]
  },
  {
   "cell_type": "markdown",
   "metadata": {},
   "source": [
    "## Preliminaries"
   ]
  },
  {
   "cell_type": "markdown",
   "metadata": {},
   "source": [
    "Please do not touch anything in this section, otherwise this notebook might not work properly. You have been warned! Also, if you have no clue what you are staring at, please consult our [Preface chapter](1-1_preface.ipynb)."
   ]
  },
  {
   "cell_type": "code",
   "execution_count": 12,
   "metadata": {},
   "outputs": [],
   "source": [
    "source(\"run_me_first.R\")"
   ]
  },
  {
   "cell_type": "markdown",
   "metadata": {},
   "source": [
    "## Exercise"
   ]
  },
  {
   "cell_type": "markdown",
   "metadata": {},
   "source": [
    "In this exercise, we want you to conduct mixed effect meta-regression to attempt to explain effect size\n",
    "heterogeneity. "
   ]
  },
  {
   "cell_type": "markdown",
   "metadata": {},
   "source": [
    "Load the data into R and then run a simple (unconditional) mixed effect meta-regression."
   ]
  },
  {
   "cell_type": "code",
   "execution_count": 13,
   "metadata": {},
   "outputs": [
    {
     "data": {
      "text/plain": [
       "\n",
       "Random-Effects Model (k = 13; tau^2 estimator: REML)\n",
       "\n",
       "tau^2 (estimated amount of total heterogeneity): 0.3132 (SE = 0.1664)\n",
       "tau (square root of estimated tau^2 value):      0.5597\n",
       "I^2 (total heterogeneity / total variability):   92.22%\n",
       "H^2 (total variability / sampling variability):  12.86\n",
       "\n",
       "Test for Heterogeneity: \n",
       "Q(df = 12) = 152.2330, p-val < .0001\n",
       "\n",
       "Model Results:\n",
       "\n",
       "estimate      se     zval    pval    ci.lb    ci.ub     \n",
       " -0.7145  0.1798  -3.9744  <.0001  -1.0669  -0.3622  ***\n",
       "\n",
       "---\n",
       "Signif. codes:  0 '***' 0.001 '**' 0.01 '*' 0.05 '.' 0.1 ' ' 1 \n"
      ]
     },
     "metadata": {},
     "output_type": "display_data"
    }
   ],
   "source": [
    "## Solution.\n",
    "library(metafor)\n",
    "dat.bcg <- escalc(measure = \"RR\", ai = tpos, bi = tneg, ci = cpos, di = cneg, data = dat.bcg)\n",
    "fit.0 <- rma(yi = yi, vi = vi, method = \"REML\", data = dat.bcg)\n",
    "fit.0"
   ]
  },
  {
   "cell_type": "markdown",
   "metadata": {},
   "source": [
    "## Exercise"
   ]
  },
  {
   "cell_type": "markdown",
   "metadata": {},
   "source": [
    "In a next step we are wondering if the moderator variable `ablat` can explain heterogeneity in the effect size\n",
    "distribution. `ablat` denotes the absolute [latitude](https://en.wikipedia.org/wiki/Geographic_coordinate_system) (Wikipedia article). The effect of latitude on the vaccine can be assumed as follows:\n",
    "\n",
    "> \"Latitude accounts for variation in rainfall, humidity, environmental mycobacteria that may produce natural immunity, temperature, and other factors that may have biological implications for vaccine efficacy. Preparation of the live vaccine requires refrigeration; unrefrigerated, it would spoil more quickly in warmer temperatures. Furthermore, direct\n",
    "exposure of the vaccine to sunlight may reduce counts of live bacteria\" (Berkey et al. 1995: 396).\n",
    " \n",
    "In order to investigate the effect of `ablat`, run a mixed meta-regression model. \n",
    "\n",
    "Check our `metafor` introduction slides for help with the code for mixed effects models. Come up with a meaningful\n",
    "interpretation.\n",
    "\n",
    "Tip: `rma(y, v, mods= ~ x_1 + ..., data = dataset)`"
   ]
  },
  {
   "cell_type": "code",
   "execution_count": 3,
   "metadata": {},
   "outputs": [
    {
     "data": {
      "text/plain": [
       "\n",
       "Mixed-Effects Model (k = 13; tau^2 estimator: REML)\n",
       "\n",
       "tau^2 (estimated amount of residual heterogeneity):     0.076 (SE = 0.059)\n",
       "tau (square root of estimated tau^2 value):             0.276\n",
       "I^2 (residual heterogeneity / unaccounted variability): 68.39%\n",
       "H^2 (unaccounted variability / sampling variability):   3.16\n",
       "R^2 (amount of heterogeneity accounted for):            75.62%\n",
       "\n",
       "Test for Residual Heterogeneity: \n",
       "QE(df = 11) = 30.733, p-val = 0.001\n",
       "\n",
       "Test of Moderators (coefficient(s) 2): \n",
       "QM(df = 1) = 16.357, p-val < .001\n",
       "\n",
       "Model Results:\n",
       "\n",
       "         estimate     se    zval   pval   ci.lb   ci.ub     \n",
       "intrcpt     0.251  0.249   1.009  0.313  -0.237   0.740     \n",
       "ablat      -0.029  0.007  -4.044  <.001  -0.043  -0.015  ***\n",
       "\n",
       "---\n",
       "Signif. codes:  0 '***' 0.001 '**' 0.01 '*' 0.05 '.' 0.1 ' ' 1 \n"
      ]
     },
     "metadata": {},
     "output_type": "display_data"
    },
    {
     "data": {
      "text/html": [
       "<table>\n",
       "<thead><tr><th scope=col>trial</th><th scope=col>author</th><th scope=col>year</th><th scope=col>tpos</th><th scope=col>tneg</th><th scope=col>cpos</th><th scope=col>cneg</th><th scope=col>ablat</th><th scope=col>alloc</th><th scope=col>yi</th><th scope=col>vi</th></tr></thead>\n",
       "<tbody>\n",
       "\t<tr><td> 1                  </td><td>Aronson             </td><td>1948                </td><td>  4                 </td><td>  119               </td><td> 11                 </td><td>  128               </td><td>44                  </td><td>random              </td><td>-0.88931133         </td><td>0.325584765         </td></tr>\n",
       "\t<tr><td> 2                                                              </td><td><span style=white-space:pre-wrap>Ferguson &amp; Simes    </span></td><td>1949                                                            </td><td><span style=white-space:pre-wrap>  6</span>                     </td><td><span style=white-space:pre-wrap>  300</span>                   </td><td> 29                                                             </td><td><span style=white-space:pre-wrap>  274</span>                   </td><td>55                                                              </td><td><span style=white-space:pre-wrap>random    </span>              </td><td>-1.58538866                                                     </td><td>0.194581121                                                     </td></tr>\n",
       "\t<tr><td> 3                  </td><td>Rosenthal et al     </td><td>1960                </td><td>  3                 </td><td>  228               </td><td> 11                 </td><td>  209               </td><td>42                  </td><td>random              </td><td>-1.34807315         </td><td>0.415367965         </td></tr>\n",
       "\t<tr><td> 4                                                              </td><td><span style=white-space:pre-wrap>Hart &amp; Sutherland   </span></td><td>1977                                                            </td><td> 62                                                             </td><td>13536                                                           </td><td>248                                                             </td><td>12619                                                           </td><td>52                                                              </td><td><span style=white-space:pre-wrap>random    </span>              </td><td>-1.44155119                                                     </td><td>0.020010032                                                     </td></tr>\n",
       "\t<tr><td> 5                  </td><td>Frimodt-Moller et al</td><td>1973                </td><td> 33                 </td><td> 5036               </td><td> 47                 </td><td> 5761               </td><td>13                  </td><td>alternate           </td><td>-0.21754732         </td><td>0.051210172         </td></tr>\n",
       "\t<tr><td> 6                                                              </td><td><span style=white-space:pre-wrap>Stein &amp; Aronson     </span></td><td>1953                                                            </td><td>180                                                             </td><td> 1361                                                           </td><td>372                                                             </td><td> 1079                                                           </td><td>44                                                              </td><td>alternate                                                       </td><td>-0.78611559                                                     </td><td>0.006905618                                                     </td></tr>\n",
       "\t<tr><td> 7                  </td><td>Vandiviere et al    </td><td>1973                </td><td>  8                 </td><td> 2537               </td><td> 10                 </td><td>  619               </td><td>19                  </td><td>random              </td><td>-1.62089822         </td><td>0.223017248         </td></tr>\n",
       "\t<tr><td> 8                  </td><td>TPT Madras          </td><td>1980                </td><td>505                 </td><td>87886               </td><td>499                 </td><td>87892               </td><td>13                  </td><td>random              </td><td> 0.01195233         </td><td>0.003961579         </td></tr>\n",
       "\t<tr><td> 9                                                              </td><td><span style=white-space:pre-wrap>Coetzee &amp; Berjak    </span></td><td>1968                                                            </td><td> 29                                                             </td><td> 7470                                                           </td><td> 45                                                             </td><td> 7232                                                           </td><td>27                                                              </td><td><span style=white-space:pre-wrap>random    </span>              </td><td>-0.46941765                                                     </td><td>0.056434210                                                     </td></tr>\n",
       "\t<tr><td>10                  </td><td>Rosenthal et al     </td><td>1961                </td><td> 17                 </td><td> 1699               </td><td> 65                 </td><td> 1600               </td><td>42                  </td><td>systematic          </td><td>-1.37134480         </td><td>0.073024794         </td></tr>\n",
       "\t<tr><td>11                  </td><td>Comstock et al      </td><td>1974                </td><td>186                 </td><td>50448               </td><td>141                 </td><td>27197               </td><td>18                  </td><td>systematic          </td><td>-0.33935883         </td><td>0.012412214         </td></tr>\n",
       "\t<tr><td>12                                                              </td><td><span style=white-space:pre-wrap>Comstock &amp; Webster  </span></td><td>1969                                                            </td><td><span style=white-space:pre-wrap>  5</span>                     </td><td> 2493                                                           </td><td><span style=white-space:pre-wrap>  3</span>                     </td><td> 2338                                                           </td><td>33                                                              </td><td>systematic                                                      </td><td> 0.44591340                                                     </td><td>0.532505845                                                     </td></tr>\n",
       "\t<tr><td>13                  </td><td>Comstock et al      </td><td>1976                </td><td> 27                 </td><td>16886               </td><td> 29                 </td><td>17825               </td><td>33                  </td><td>systematic          </td><td>-0.01731395         </td><td>0.071404660         </td></tr>\n",
       "</tbody>\n",
       "</table>\n"
      ],
      "text/latex": [
       "\\begin{tabular}{r|lllllllllll}\n",
       " trial & author & year & tpos & tneg & cpos & cneg & ablat & alloc & yi & vi\\\\\n",
       "\\hline\n",
       "\t  1                   & Aronson              & 1948                 &   4                  &   119                &  11                  &   128                & 44                   & random               & -0.88931133          & 0.325584765         \\\\\n",
       "\t  2                     & Ferguson \\& Simes     & 1949                   &   6                    &   300                  &  29                    &   274                  & 55                     & random                 & -1.58538866            & 0.194581121           \\\\\n",
       "\t  3                   & Rosenthal et al      & 1960                 &   3                  &   228                &  11                  &   209                & 42                   & random               & -1.34807315          & 0.415367965         \\\\\n",
       "\t  4                     & Hart \\& Sutherland    & 1977                   &  62                    & 13536                  & 248                    & 12619                  & 52                     & random                 & -1.44155119            & 0.020010032           \\\\\n",
       "\t  5                   & Frimodt-Moller et al & 1973                 &  33                  &  5036                &  47                  &  5761                & 13                   & alternate            & -0.21754732          & 0.051210172         \\\\\n",
       "\t  6                     & Stein \\& Aronson      & 1953                   & 180                    &  1361                  & 372                    &  1079                  & 44                     & alternate              & -0.78611559            & 0.006905618           \\\\\n",
       "\t  7                   & Vandiviere et al     & 1973                 &   8                  &  2537                &  10                  &   619                & 19                   & random               & -1.62089822          & 0.223017248         \\\\\n",
       "\t  8                   & TPT Madras           & 1980                 & 505                  & 87886                & 499                  & 87892                & 13                   & random               &  0.01195233          & 0.003961579         \\\\\n",
       "\t  9                     & Coetzee \\& Berjak     & 1968                   &  29                    &  7470                  &  45                    &  7232                  & 27                     & random                 & -0.46941765            & 0.056434210           \\\\\n",
       "\t 10                   & Rosenthal et al      & 1961                 &  17                  &  1699                &  65                  &  1600                & 42                   & systematic           & -1.37134480          & 0.073024794         \\\\\n",
       "\t 11                   & Comstock et al       & 1974                 & 186                  & 50448                & 141                  & 27197                & 18                   & systematic           & -0.33935883          & 0.012412214         \\\\\n",
       "\t 12                     & Comstock \\& Webster   & 1969                   &   5                    &  2493                  &   3                    &  2338                  & 33                     & systematic             &  0.44591340            & 0.532505845           \\\\\n",
       "\t 13                   & Comstock et al       & 1976                 &  27                  & 16886                &  29                  & 17825                & 33                   & systematic           & -0.01731395          & 0.071404660         \\\\\n",
       "\\end{tabular}\n"
      ],
      "text/markdown": [
       "\n",
       "trial | author | year | tpos | tneg | cpos | cneg | ablat | alloc | yi | vi | \n",
       "|---|---|---|---|---|---|---|---|---|---|---|---|---|\n",
       "|  1                   | Aronson              | 1948                 |   4                  |   119                |  11                  |   128                | 44                   | random               | -0.88931133          | 0.325584765          | \n",
       "|  2                   | Ferguson & Simes     | 1949                 |   6                  |   300                |  29                  |   274                | 55                   | random               | -1.58538866          | 0.194581121          | \n",
       "|  3                   | Rosenthal et al      | 1960                 |   3                  |   228                |  11                  |   209                | 42                   | random               | -1.34807315          | 0.415367965          | \n",
       "|  4                   | Hart & Sutherland    | 1977                 |  62                  | 13536                | 248                  | 12619                | 52                   | random               | -1.44155119          | 0.020010032          | \n",
       "|  5                   | Frimodt-Moller et al | 1973                 |  33                  |  5036                |  47                  |  5761                | 13                   | alternate            | -0.21754732          | 0.051210172          | \n",
       "|  6                   | Stein & Aronson      | 1953                 | 180                  |  1361                | 372                  |  1079                | 44                   | alternate            | -0.78611559          | 0.006905618          | \n",
       "|  7                   | Vandiviere et al     | 1973                 |   8                  |  2537                |  10                  |   619                | 19                   | random               | -1.62089822          | 0.223017248          | \n",
       "|  8                   | TPT Madras           | 1980                 | 505                  | 87886                | 499                  | 87892                | 13                   | random               |  0.01195233          | 0.003961579          | \n",
       "|  9                   | Coetzee & Berjak     | 1968                 |  29                  |  7470                |  45                  |  7232                | 27                   | random               | -0.46941765          | 0.056434210          | \n",
       "| 10                   | Rosenthal et al      | 1961                 |  17                  |  1699                |  65                  |  1600                | 42                   | systematic           | -1.37134480          | 0.073024794          | \n",
       "| 11                   | Comstock et al       | 1974                 | 186                  | 50448                | 141                  | 27197                | 18                   | systematic           | -0.33935883          | 0.012412214          | \n",
       "| 12                   | Comstock & Webster   | 1969                 |   5                  |  2493                |   3                  |  2338                | 33                   | systematic           |  0.44591340          | 0.532505845          | \n",
       "| 13                   | Comstock et al       | 1976                 |  27                  | 16886                |  29                  | 17825                | 33                   | systematic           | -0.01731395          | 0.071404660          | \n",
       "\n",
       "\n"
      ],
      "text/plain": [
       "   trial author               year tpos tneg  cpos cneg  ablat alloc     \n",
       "1   1    Aronson              1948   4    119  11    128 44    random    \n",
       "2   2    Ferguson & Simes     1949   6    300  29    274 55    random    \n",
       "3   3    Rosenthal et al      1960   3    228  11    209 42    random    \n",
       "4   4    Hart & Sutherland    1977  62  13536 248  12619 52    random    \n",
       "5   5    Frimodt-Moller et al 1973  33   5036  47   5761 13    alternate \n",
       "6   6    Stein & Aronson      1953 180   1361 372   1079 44    alternate \n",
       "7   7    Vandiviere et al     1973   8   2537  10    619 19    random    \n",
       "8   8    TPT Madras           1980 505  87886 499  87892 13    random    \n",
       "9   9    Coetzee & Berjak     1968  29   7470  45   7232 27    random    \n",
       "10 10    Rosenthal et al      1961  17   1699  65   1600 42    systematic\n",
       "11 11    Comstock et al       1974 186  50448 141  27197 18    systematic\n",
       "12 12    Comstock & Webster   1969   5   2493   3   2338 33    systematic\n",
       "13 13    Comstock et al       1976  27  16886  29  17825 33    systematic\n",
       "   yi          vi         \n",
       "1  -0.88931133 0.325584765\n",
       "2  -1.58538866 0.194581121\n",
       "3  -1.34807315 0.415367965\n",
       "4  -1.44155119 0.020010032\n",
       "5  -0.21754732 0.051210172\n",
       "6  -0.78611559 0.006905618\n",
       "7  -1.62089822 0.223017248\n",
       "8   0.01195233 0.003961579\n",
       "9  -0.46941765 0.056434210\n",
       "10 -1.37134480 0.073024794\n",
       "11 -0.33935883 0.012412214\n",
       "12  0.44591340 0.532505845\n",
       "13 -0.01731395 0.071404660"
      ]
     },
     "metadata": {},
     "output_type": "display_data"
    },
    {
     "data": {
      "image/png": "[encoded data removed]",
      "text/plain": [
       "plot without title"
      ]
     },
     "metadata": {},
     "output_type": "display_data"
    }
   ],
   "source": [
    "## Solution.\n",
    "library(metafor)\n",
    "dat.bcg <- escalc(measure = \"RR\", ai = tpos, bi = tneg, ci = cpos, di = cneg, data = dat.bcg)\n",
    "res.abl <- (rma(yi ~ ablat, vi, data = dat.bcg, digits = 3) )\n",
    "res.abl\n",
    "\n",
    "forest(res.abl)\n",
    "dat.bcg"
   ]
  },
  {
   "cell_type": "code",
   "execution_count": 15,
   "metadata": {},
   "outputs": [],
   "source": [
    "## Solution.\n",
    "## This moderator has negative, statistically significant effect. That is, the colder \n",
    "## (more north or south,  it is the absolute value), the better the vaccine works. \n",
    "## At 0° (intercept), the effect is positive ($b_0 = 0.251$)"
   ]
  },
  {
   "cell_type": "code",
   "execution_count": 28,
   "metadata": {},
   "outputs": [
    {
     "data": {
      "text/html": [
       "0.756244783614905"
      ],
      "text/latex": [
       "0.756244783614905"
      ],
      "text/markdown": [
       "0.756244783614905"
      ],
      "text/plain": [
       "[1] 0.7562448"
      ]
     },
     "metadata": {},
     "output_type": "display_data"
    }
   ],
   "source": [
    "## Solution.\n",
    "## The value for R^2 (\"R^2 (amount of heterogeneity accounted for):\") can be manually \n",
    "## calculated as follows:\n",
    "(fit.0$tau2 - res.abl$tau2 )/ fit.0$tau2 "
   ]
  },
  {
   "cell_type": "markdown",
   "metadata": {},
   "source": [
    "## Exercise"
   ]
  },
  {
   "cell_type": "markdown",
   "metadata": {},
   "source": [
    "Next we were wondering what happens if transform ablat into a grouped variable named\n",
    "ablat_gr. Note that we need to define a predictor as a `factor` variable. There are different approaches of creating factor variables in R:\n",
    "\n",
    "-  If you are going to recode a continuous variable, you might want to use the `recode` command from the car package. After doing that, you have to convert the newly created variable to a factor variable by using the factor() command:"
   ]
  },
  {
   "cell_type": "code",
   "execution_count": 16,
   "metadata": {},
   "outputs": [
    {
     "data": {
      "text/plain": [
       "\n",
       "13 18 19 27 33 42 44 52 55 \n",
       " 2  1  1  1  2  2  2  1  1 "
      ]
     },
     "metadata": {},
     "output_type": "display_data"
    }
   ],
   "source": [
    "table(dat.bcg$ablat)"
   ]
  },
  {
   "cell_type": "code",
   "execution_count": 1,
   "metadata": {},
   "outputs": [
    {
     "name": "stderr",
     "output_type": "stream",
     "text": [
      "also installing the dependencies 'minqa', 'nloptr', 'Rcpp', 'RcppEigen', 'lme4', 'SparseM', 'MatrixModels', 'MASS', 'mgcv', 'nnet', 'pbkrtest', 'quantreg'\n",
      "\n"
     ]
    },
    {
     "name": "stdout",
     "output_type": "stream",
     "text": [
      "package 'minqa' successfully unpacked and MD5 sums checked\n",
      "package 'nloptr' successfully unpacked and MD5 sums checked\n",
      "package 'Rcpp' successfully unpacked and MD5 sums checked\n",
      "package 'RcppEigen' successfully unpacked and MD5 sums checked\n",
      "package 'lme4' successfully unpacked and MD5 sums checked\n",
      "package 'SparseM' successfully unpacked and MD5 sums checked\n",
      "package 'MatrixModels' successfully unpacked and MD5 sums checked\n",
      "package 'MASS' successfully unpacked and MD5 sums checked\n",
      "package 'mgcv' successfully unpacked and MD5 sums checked\n",
      "package 'nnet' successfully unpacked and MD5 sums checked\n",
      "package 'pbkrtest' successfully unpacked and MD5 sums checked\n",
      "package 'quantreg' successfully unpacked and MD5 sums checked\n",
      "package 'car' successfully unpacked and MD5 sums checked\n",
      "\n",
      "The downloaded binary packages are in\n",
      "\tD:\\TEMP\\RtmpEJGdKI\\downloaded_packages\n"
     ]
    },
    {
     "ename": "ERROR",
     "evalue": "Error in is.factor(var): Objekt 'dat.bcg' nicht gefunden\n",
     "output_type": "error",
     "traceback": [
      "Error in is.factor(var): Objekt 'dat.bcg' nicht gefunden\nTraceback:\n",
      "1. recode(dat.bcg$ablat, \"0:33 = '[0,34)'; 24:90 = '[34,90)'\")",
      "2. is.factor(var)"
     ]
    }
   ],
   "source": [
    "install.packages(\"car\")\n",
    "library(car)\n",
    "dat.bcg$ablat_gr <- recode(dat.bcg$ablat, \"0:33 = '[0,34)'; 24:90 = '[34,90)'\")\n",
    "dat.bcg$ablat_gr <- factor(dat.bcg$ablat_gr)\n",
    "table(dat.bcg$ablat_gr)"
   ]
  },
  {
   "cell_type": "markdown",
   "metadata": {},
   "source": [
    "- If you just want to convert a given variable (which will R treat as a continuous variable) to a factor variable, you should use the `factor()` command, e.g. `factor(dat.bcg$ablat)` (note: your new factor variable will have 26 levels)."
   ]
  },
  {
   "cell_type": "markdown",
   "metadata": {},
   "source": [
    "This variable indicates if the study took place between 34 degrees latitude and the north/south pole (remember, it is the absolute latitude)."
   ]
  },
  {
   "cell_type": "code",
   "execution_count": 18,
   "metadata": {},
   "outputs": [
    {
     "data": {
      "text/plain": [
       "\n",
       "Mixed-Effects Model (k = 13; tau^2 estimator: REML)\n",
       "\n",
       "  logLik  deviance       AIC       BIC      AICc  \n",
       "  -7.073    14.146    20.146    21.339    23.574  \n",
       "\n",
       "tau^2 (estimated amount of residual heterogeneity):     0.084 (SE = 0.063)\n",
       "tau (square root of estimated tau^2 value):             0.289\n",
       "I^2 (residual heterogeneity / unaccounted variability): 70.82%\n",
       "H^2 (unaccounted variability / sampling variability):   3.43\n",
       "R^2 (amount of heterogeneity accounted for):            73.31%\n",
       "\n",
       "Test for Residual Heterogeneity: \n",
       "QE(df = 11) = 41.789, p-val < .001\n",
       "\n",
       "Test of Moderators (coefficient(s) 2): \n",
       "QM(df = 1) = 17.145, p-val < .001\n",
       "\n",
       "Model Results:\n",
       "\n",
       "                 estimate     se    zval   pval   ci.lb   ci.ub     \n",
       "intrcpt            -0.273  0.145  -1.887  0.059  -0.557   0.011    .\n",
       "ablat_gr[34,90)    -0.920  0.222  -4.141  <.001  -1.356  -0.485  ***\n",
       "\n",
       "---\n",
       "Signif. codes:  0 '***' 0.001 '**' 0.01 '*' 0.05 '.' 0.1 ' ' 1 \n"
      ]
     },
     "metadata": {},
     "output_type": "display_data"
    }
   ],
   "source": [
    "## Solution.\n",
    "mdl_grouped <- rma(yi ~ ablat_gr, vi, data = dat.bcg, digits = 3)\n",
    "summary(mdl_grouped)"
   ]
  },
  {
   "cell_type": "markdown",
   "metadata": {},
   "source": [
    "If you want to change the reference level, you can use the `relevel()` command. So, for instance, if you want to use level `[0,34)` as new reference category:"
   ]
  },
  {
   "cell_type": "code",
   "execution_count": 19,
   "metadata": {},
   "outputs": [
    {
     "data": {
      "text/plain": [
       "\n",
       "Mixed-Effects Model (k = 13; tau^2 estimator: REML)\n",
       "\n",
       "  logLik  deviance       AIC       BIC      AICc  \n",
       "  -7.073    14.146    20.146    21.339    23.574  \n",
       "\n",
       "tau^2 (estimated amount of residual heterogeneity):     0.084 (SE = 0.063)\n",
       "tau (square root of estimated tau^2 value):             0.289\n",
       "I^2 (residual heterogeneity / unaccounted variability): 70.82%\n",
       "H^2 (unaccounted variability / sampling variability):   3.43\n",
       "R^2 (amount of heterogeneity accounted for):            73.31%\n",
       "\n",
       "Test for Residual Heterogeneity: \n",
       "QE(df = 11) = 41.789, p-val < .001\n",
       "\n",
       "Test of Moderators (coefficient(s) 2): \n",
       "QM(df = 1) = 17.145, p-val < .001\n",
       "\n",
       "Model Results:\n",
       "\n",
       "                                          estimate     se    zval   pval\n",
       "intrcpt                                     -1.194  0.169  -7.075  <.001\n",
       "relevel(ablat_gr, ref = \"[34,90)\")[0,34)     0.920  0.222   4.141  <.001\n",
       "                                           ci.lb   ci.ub     \n",
       "intrcpt                                   -1.524  -0.863  ***\n",
       "relevel(ablat_gr, ref = \"[34,90)\")[0,34)   0.485   1.356  ***\n",
       "\n",
       "---\n",
       "Signif. codes:  0 '***' 0.001 '**' 0.01 '*' 0.05 '.' 0.1 ' ' 1 \n"
      ]
     },
     "metadata": {},
     "output_type": "display_data"
    }
   ],
   "source": [
    "mdl_grouped <- rma(yi ~ relevel(ablat_gr, ref = \"[34,90)\"), vi, data = dat.bcg, digits = 3)\n",
    "summary(mdl_grouped)"
   ]
  },
  {
   "cell_type": "markdown",
   "metadata": {},
   "source": [
    "If you don’t like that your output looks kind of ugly because the relevel() command is included, you could generate a new variable:"
   ]
  },
  {
   "cell_type": "code",
   "execution_count": 20,
   "metadata": {},
   "outputs": [
    {
     "data": {
      "text/html": [
       "<table>\n",
       "<thead><tr><th scope=col>trial</th><th scope=col>author</th><th scope=col>year</th><th scope=col>tpos</th><th scope=col>tneg</th><th scope=col>cpos</th><th scope=col>cneg</th><th scope=col>ablat</th><th scope=col>alloc</th><th scope=col>yi</th><th scope=col>vi</th><th scope=col>ablat_gr</th><th scope=col>ablat_gr2</th></tr></thead>\n",
       "<tbody>\n",
       "\t<tr><td>1                   </td><td>Aronson             </td><td>1948                </td><td>  4                 </td><td>  119               </td><td> 11                 </td><td>  128               </td><td>44                  </td><td>random              </td><td>-0.8893113          </td><td>0.325584765         </td><td>[34,90)             </td><td>[34,90)             </td></tr>\n",
       "\t<tr><td>2                                                               </td><td><span style=white-space:pre-wrap>Ferguson &amp; Simes    </span></td><td>1949                                                            </td><td><span style=white-space:pre-wrap>  6</span>                     </td><td><span style=white-space:pre-wrap>  300</span>                   </td><td> 29                                                             </td><td><span style=white-space:pre-wrap>  274</span>                   </td><td>55                                                              </td><td><span style=white-space:pre-wrap>random   </span>               </td><td>-1.5853887                                                      </td><td>0.194581121                                                     </td><td>[34,90)                                                         </td><td>[34,90)                                                         </td></tr>\n",
       "\t<tr><td>3                   </td><td>Rosenthal et al     </td><td>1960                </td><td>  3                 </td><td>  228               </td><td> 11                 </td><td>  209               </td><td>42                  </td><td>random              </td><td>-1.3480731          </td><td>0.415367965         </td><td>[34,90)             </td><td>[34,90)             </td></tr>\n",
       "\t<tr><td>4                                                               </td><td><span style=white-space:pre-wrap>Hart &amp; Sutherland   </span></td><td>1977                                                            </td><td> 62                                                             </td><td>13536                                                           </td><td>248                                                             </td><td>12619                                                           </td><td>52                                                              </td><td><span style=white-space:pre-wrap>random   </span>               </td><td>-1.4415512                                                      </td><td>0.020010032                                                     </td><td>[34,90)                                                         </td><td>[34,90)                                                         </td></tr>\n",
       "\t<tr><td>5                   </td><td>Frimodt-Moller et al</td><td>1973                </td><td> 33                 </td><td> 5036               </td><td> 47                 </td><td> 5761               </td><td>13                  </td><td>alternate           </td><td>-0.2175473          </td><td>0.051210172         </td><td>[0,34)              </td><td>[0,34)              </td></tr>\n",
       "\t<tr><td>6                                                               </td><td><span style=white-space:pre-wrap>Stein &amp; Aronson     </span></td><td>1953                                                            </td><td>180                                                             </td><td> 1361                                                           </td><td>372                                                             </td><td> 1079                                                           </td><td>44                                                              </td><td>alternate                                                       </td><td>-0.7861156                                                      </td><td>0.006905618                                                     </td><td>[34,90)                                                         </td><td>[34,90)                                                         </td></tr>\n",
       "</tbody>\n",
       "</table>\n"
      ],
      "text/latex": [
       "\\begin{tabular}{r|lllllllllllll}\n",
       " trial & author & year & tpos & tneg & cpos & cneg & ablat & alloc & yi & vi & ablat\\_gr & ablat\\_gr2\\\\\n",
       "\\hline\n",
       "\t 1                    & Aronson              & 1948                 &   4                  &   119                &  11                  &   128                & 44                   & random               & -0.8893113           & 0.325584765          & {[}34,90)            & {[}34,90)           \\\\\n",
       "\t 2                      & Ferguson \\& Simes     & 1949                   &   6                    &   300                  &  29                    &   274                  & 55                     & random                 & -1.5853887             & 0.194581121            & {[}34,90)              & {[}34,90)             \\\\\n",
       "\t 3                    & Rosenthal et al      & 1960                 &   3                  &   228                &  11                  &   209                & 42                   & random               & -1.3480731           & 0.415367965          & {[}34,90)            & {[}34,90)           \\\\\n",
       "\t 4                      & Hart \\& Sutherland    & 1977                   &  62                    & 13536                  & 248                    & 12619                  & 52                     & random                 & -1.4415512             & 0.020010032            & {[}34,90)              & {[}34,90)             \\\\\n",
       "\t 5                    & Frimodt-Moller et al & 1973                 &  33                  &  5036                &  47                  &  5761                & 13                   & alternate            & -0.2175473           & 0.051210172          & {[}0,34)             & {[}0,34)            \\\\\n",
       "\t 6                      & Stein \\& Aronson      & 1953                   & 180                    &  1361                  & 372                    &  1079                  & 44                     & alternate              & -0.7861156             & 0.006905618            & {[}34,90)              & {[}34,90)             \\\\\n",
       "\\end{tabular}\n"
      ],
      "text/markdown": [
       "\n",
       "trial | author | year | tpos | tneg | cpos | cneg | ablat | alloc | yi | vi | ablat_gr | ablat_gr2 | \n",
       "|---|---|---|---|---|---|\n",
       "| 1                    | Aronson              | 1948                 |   4                  |   119                |  11                  |   128                | 44                   | random               | -0.8893113           | 0.325584765          | [34,90)              | [34,90)              | \n",
       "| 2                    | Ferguson & Simes     | 1949                 |   6                  |   300                |  29                  |   274                | 55                   | random               | -1.5853887           | 0.194581121          | [34,90)              | [34,90)              | \n",
       "| 3                    | Rosenthal et al      | 1960                 |   3                  |   228                |  11                  |   209                | 42                   | random               | -1.3480731           | 0.415367965          | [34,90)              | [34,90)              | \n",
       "| 4                    | Hart & Sutherland    | 1977                 |  62                  | 13536                | 248                  | 12619                | 52                   | random               | -1.4415512           | 0.020010032          | [34,90)              | [34,90)              | \n",
       "| 5                    | Frimodt-Moller et al | 1973                 |  33                  |  5036                |  47                  |  5761                | 13                   | alternate            | -0.2175473           | 0.051210172          | [0,34)               | [0,34)               | \n",
       "| 6                    | Stein & Aronson      | 1953                 | 180                  |  1361                | 372                  |  1079                | 44                   | alternate            | -0.7861156           | 0.006905618          | [34,90)              | [34,90)              | \n",
       "\n",
       "\n"
      ],
      "text/plain": [
       "  trial author               year tpos tneg  cpos cneg  ablat alloc    \n",
       "1 1     Aronson              1948   4    119  11    128 44    random   \n",
       "2 2     Ferguson & Simes     1949   6    300  29    274 55    random   \n",
       "3 3     Rosenthal et al      1960   3    228  11    209 42    random   \n",
       "4 4     Hart & Sutherland    1977  62  13536 248  12619 52    random   \n",
       "5 5     Frimodt-Moller et al 1973  33   5036  47   5761 13    alternate\n",
       "6 6     Stein & Aronson      1953 180   1361 372   1079 44    alternate\n",
       "  yi         vi          ablat_gr ablat_gr2\n",
       "1 -0.8893113 0.325584765 [34,90)  [34,90)  \n",
       "2 -1.5853887 0.194581121 [34,90)  [34,90)  \n",
       "3 -1.3480731 0.415367965 [34,90)  [34,90)  \n",
       "4 -1.4415512 0.020010032 [34,90)  [34,90)  \n",
       "5 -0.2175473 0.051210172 [0,34)   [0,34)   \n",
       "6 -0.7861156 0.006905618 [34,90)  [34,90)  "
      ]
     },
     "metadata": {},
     "output_type": "display_data"
    }
   ],
   "source": [
    "dat.bcg$ablat_gr2 <- relevel(dat.bcg$ablat_gr, ref = \"[34,90)\")\n",
    "head(dat.bcg)"
   ]
  },
  {
   "cell_type": "code",
   "execution_count": 21,
   "metadata": {},
   "outputs": [
    {
     "data": {
      "text/plain": [
       "\n",
       "Mixed-Effects Model (k = 13; tau^2 estimator: REML)\n",
       "\n",
       "  logLik  deviance       AIC       BIC      AICc  \n",
       "  -7.073    14.146    20.146    21.339    23.574  \n",
       "\n",
       "tau^2 (estimated amount of residual heterogeneity):     0.084 (SE = 0.063)\n",
       "tau (square root of estimated tau^2 value):             0.289\n",
       "I^2 (residual heterogeneity / unaccounted variability): 70.82%\n",
       "H^2 (unaccounted variability / sampling variability):   3.43\n",
       "R^2 (amount of heterogeneity accounted for):            73.31%\n",
       "\n",
       "Test for Residual Heterogeneity: \n",
       "QE(df = 11) = 41.789, p-val < .001\n",
       "\n",
       "Test of Moderators (coefficient(s) 2): \n",
       "QM(df = 1) = 17.145, p-val < .001\n",
       "\n",
       "Model Results:\n",
       "\n",
       "                 estimate     se    zval   pval   ci.lb   ci.ub     \n",
       "intrcpt            -1.194  0.169  -7.075  <.001  -1.524  -0.863  ***\n",
       "ablat_gr2[0,34)     0.920  0.222   4.141  <.001   0.485   1.356  ***\n",
       "\n",
       "---\n",
       "Signif. codes:  0 '***' 0.001 '**' 0.01 '*' 0.05 '.' 0.1 ' ' 1 \n"
      ]
     },
     "metadata": {},
     "output_type": "display_data"
    }
   ],
   "source": [
    "mdl_grouped <- rma(yi ~ ablat_gr2, vi, data = dat.bcg, digits = 3)\n",
    "summary(mdl_grouped)"
   ]
  },
  {
   "cell_type": "markdown",
   "metadata": {},
   "source": [
    "## Exercise"
   ]
  },
  {
   "cell_type": "markdown",
   "metadata": {},
   "source": [
    "Use `rma(y, v, mods = ~x_1 + ... - 1, data = dataset)` (`-1` removes the intercept) to obtain the weighted average effect sizes and standard errors for each group of ablat_gr . \n",
    "\n",
    "**IMPORTANT: Do not use the Q values!**\n",
    "    \n",
    "Which group has the largest effect? And, more importantly, what does that mean?"
   ]
  },
  {
   "cell_type": "code",
   "execution_count": 22,
   "metadata": {},
   "outputs": [
    {
     "data": {
      "text/plain": [
       "\n",
       "Mixed-Effects Model (k = 13; tau^2 estimator: REML)\n",
       "\n",
       "  logLik  deviance       AIC       BIC      AICc  \n",
       "  -7.073    14.146    20.146    21.339    23.574  \n",
       "\n",
       "tau^2 (estimated amount of residual heterogeneity):     0.084 (SE = 0.063)\n",
       "tau (square root of estimated tau^2 value):             0.289\n",
       "I^2 (residual heterogeneity / unaccounted variability): 70.82%\n",
       "H^2 (unaccounted variability / sampling variability):   3.43\n",
       "\n",
       "Test for Residual Heterogeneity: \n",
       "QE(df = 11) = 41.789, p-val < .001\n",
       "\n",
       "Test of Moderators (coefficient(s) 1:2): \n",
       "QM(df = 2) = 53.612, p-val < .001\n",
       "\n",
       "Model Results:\n",
       "\n",
       "                 estimate     se    zval   pval   ci.lb   ci.ub     \n",
       "ablat_gr[0,34)     -0.273  0.145  -1.887  0.059  -0.557   0.011    .\n",
       "ablat_gr[34,90)    -1.194  0.169  -7.075  <.001  -1.524  -0.863  ***\n",
       "\n",
       "---\n",
       "Signif. codes:  0 '***' 0.001 '**' 0.01 '*' 0.05 '.' 0.1 ' ' 1 \n"
      ]
     },
     "metadata": {},
     "output_type": "display_data"
    }
   ],
   "source": [
    "## Solution.\n",
    "mdl3_grouped <- rma(yi ~ ablat_gr - 1, vi, data = dat.bcg, digits = 3)\n",
    "summary(mdl3_grouped)\n",
    "\n",
    "\n",
    "\n",
    "## - a negative value means that the vaccine indeed works.\n",
    "## - 0 means there is no effect at all, yi > 0 means the vaccine is harmful.\n",
    "###  - vaccine works better in cntries for lattitudes bw. 34 and 90 \n"
   ]
  }
 ],
 "metadata": {
  "kernelspec": {
   "display_name": "R",
   "language": "R",
   "name": "ir"
  },
  "language_info": {
   "codemirror_mode": "r",
   "file_extension": ".r",
   "mimetype": "text/x-r-source",
   "name": "R",
   "pygments_lexer": "r",
   "version": "3.4.3"
  },
  "toc": {
   "base_numbering": 1,
   "nav_menu": {},
   "number_sections": true,
   "sideBar": true,
   "skip_h1_title": false,
   "title_cell": "Table of Contents",
   "title_sidebar": "Contents",
   "toc_cell": true,
   "toc_position": {},
   "toc_section_display": true,
   "toc_window_display": true
  }
 },
 "nbformat": 4,
 "nbformat_minor": 2
}
